import argparse
import time
from brainflow.board_shim import BoardShim, BrainFlowInputParams, BoardIds
from brainflow.data_filter import DataFilter
import os


# Parameters for data saving
sex = ["male", "female"][0]
participant = "01"
direction = ["left", "none", "right"][0]
run = "01"
ext = ".csv"
sfreq = 200 #Ganglion sampling rate

dir_path = os.path.join("data", sex, participant, direction)
file_path = os.path.join(dir_path, run + ext)

if not os.path.exists(dir_path):
    os.makedirs(dir_path)


def collect_data():
    BoardShim.enable_dev_board_logger()

    # Arguments for board
    params = BrainFlowInputParams()
    params.serial_port = "/dev/cu.usbmodem11"

    # Make connection to board
    try:    
        board = BoardShim(BoardIds.GANGLION_BOARD, params)
        board.prepare_session()
        board.start_stream()
        time.sleep(27)
        data = board.get_board_data()  # get all data and remove it from internal buffer
        board.stop_stream()
        board.release_session()
        DataFilter.write_file(data, file_path, "w")
    except:
        print("Unable to connect to Ganglion Board")

collect_data()


import pandas as pd
import numpy as np
import matplotlib.pyplot as plt


def load_csv_eeg(gender, participant, direction, run):
    if gender is None or participant is None or direction is None or run is None:
        return "Please enter the required parameters"
    
    file_path = os.path.join("data", gender, participant, direction, run + ".csv")
    
    data = DataFilter.read_file(file_path)
    
    df = pd.DataFrame(np.transpose(data))
    df.drop(labels=[0, 5, 6, 7, 8, 9, 10, 11, 12, 13, 14], inplace=True, axis=1)
    
    return df

example_params = ["male", "01", "left", "01"]


csv_df = load_csv_eeg(*example_params)


csv_df


csv_df.plot()
