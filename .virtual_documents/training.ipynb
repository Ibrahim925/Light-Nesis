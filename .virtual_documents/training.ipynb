import pandas as pd
import os


def get_dataframes():
    dataframes = {"Left": [], "None": [], "Right": []}
    for sex in ["male", "female"]:
        participant = 1
        while True:
            participant_path = os.path.join("data", str(sex), str(participant))
            if not os.path.exists(participant_path):
                break
                
            for direction in ["Left", "None", "Right"]:
                run = 1
                while True:
                    path = os.path.join(participant_path, str(direction), str(run) + ".csv")
                    if not os.path.exists(path):
                        break
                    df = pd.read_csv(path, delimiter="\t", names=[i for i in range(15)])
                    df[[1, 2, 3, 4]] /= 1000000 # Divide to convert from Brainflow uV to MNE V
                    dataframes[direction].append(df)
                    run += 1
            participant += 1
    return dataframes


dataframes = get_dataframes()ihjivhbjkn m,bn


dataframes



