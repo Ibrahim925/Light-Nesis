{
 "cells": [
  {
   "cell_type": "markdown",
   "metadata": {},
   "source": [
    "<h1>\n",
    "    Light-Nesis Prototype\n",
    "</h1>\n",
    "\n",
    "<h2>Table of Contents</h2>\n",
    "<ol>\n",
    "    <li><a href=\"#data-collection\">Data collection</a></li>\n",
    "    <li><a href=\"#preprocessing\">Preprocessing/Feature extraction</a></li>\n",
    "    <li>Model training</li>\n",
    "    <li>Model evaluation</li>\n",
    "</ol>"
   ]
  },
  {
   "cell_type": "markdown",
   "metadata": {},
   "source": [
    "<h2 id=\"data-collection\">Data Collection</h2>"
   ]
  },
  {
   "cell_type": "code",
   "execution_count": 1,
   "metadata": {},
   "outputs": [],
   "source": [
    "import argparse\n",
    "import time\n",
    "from brainflow.board_shim import BoardShim, BrainFlowInputParams, BoardIds\n",
    "from brainflow.data_filter import DataFilter\n",
    "import os"
   ]
  },
  {
   "cell_type": "code",
   "execution_count": 66,
   "metadata": {},
   "outputs": [],
   "source": [
    "# Parameters for data saving\n",
    "sex = [\"male\", \"female\"][0]\n",
    "participant = \"01\"\n",
    "direction = [\"left\", \"none\", \"right\"][0]\n",
    "run = \"01\"\n",
    "ext = \".csv\"\n",
    "sfreq = 200 #Ganglion sampling rate\n",
    "\n",
    "dir_path = os.path.join(\"data\", sex, participant, direction)\n",
    "file_path = os.path.join(dir_path, run + ext)\n",
    "\n",
    "if not os.path.exists(dir_path):\n",
    "    os.makedirs(dir_path)"
   ]
  },
  {
   "cell_type": "code",
   "execution_count": null,
   "metadata": {},
   "outputs": [],
   "source": [
    "def collect_data():\n",
    "    BoardShim.enable_dev_board_logger()\n",
    "\n",
    "    # Arguments for board\n",
    "    params = BrainFlowInputParams()\n",
    "    params.serial_port = \"/dev/cu.usbmodem11\"\n",
    "\n",
    "    # Make connection to board\n",
    "    try:    \n",
    "        board = BoardShim(BoardIds.GANGLION_BOARD, params)\n",
    "        board.prepare_session()\n",
    "        board.start_stream()\n",
    "        time.sleep(27)\n",
    "        data = board.get_board_data()  # get all data and remove it from internal buffer\n",
    "        board.stop_stream()\n",
    "        board.release_session()\n",
    "        DataFilter.write_file(data, file_path, \"w\")\n",
    "    except:\n",
    "        print(\"Unable to connect to Ganglion Board\")\n",
    "\n",
    "collect_data()"
   ]
  },
  {
   "cell_type": "markdown",
   "metadata": {},
   "source": [
    "<h2 id=\"preprocessing\">Preprocessing/Feature Extraction</h2>"
   ]
  },
  {
   "cell_type": "code",
   "execution_count": 12,
   "metadata": {},
   "outputs": [],
   "source": [
    "import pandas as pd\n",
    "import numpy as np\n",
    "import matplotlib.pyplot as plt"
   ]
  },
  {
   "cell_type": "code",
   "execution_count": 104,
   "metadata": {},
   "outputs": [],
   "source": [
    "def load_csv_eeg(gender, participant, direction, run):\n",
    "    if gender is None or participant is None or direction is None or run is None:\n",
    "        return \"Please enter the required parameters\"\n",
    "    \n",
    "    file_path = os.path.join(\"data\", gender, participant, direction, run + \".csv\")\n",
    "    \n",
    "    data = DataFilter.read_file(file_path)\n",
    "    \n",
    "    df = pd.DataFrame(np.transpose(data))\n",
    "    df.drop(labels=[0, 5, 6, 7, 8, 9, 10, 11, 12, 13, 14], inplace=True, axis=1)\n",
    "    \n",
    "    return df\n",
    "\n",
    "example_params = [\"male\", \"01\", \"left\", \"01\"]"
   ]
  },
  {
   "cell_type": "code",
   "execution_count": 105,
   "metadata": {},
   "outputs": [],
   "source": [
    "csv_df = load_csv_eeg(*example_params)"
   ]
  },
  {
   "cell_type": "code",
   "execution_count": 106,
   "metadata": {},
   "outputs": [
    {
     "data": {
      "text/html": [
       "<div>\n",
       "<style scoped>\n",
       "    .dataframe tbody tr th:only-of-type {\n",
       "        vertical-align: middle;\n",
       "    }\n",
       "\n",
       "    .dataframe tbody tr th {\n",
       "        vertical-align: top;\n",
       "    }\n",
       "\n",
       "    .dataframe thead th {\n",
       "        text-align: right;\n",
       "    }\n",
       "</style>\n",
       "<table border=\"1\" class=\"dataframe\">\n",
       "  <thead>\n",
       "    <tr style=\"text-align: right;\">\n",
       "      <th></th>\n",
       "      <th>1</th>\n",
       "      <th>2</th>\n",
       "      <th>3</th>\n",
       "      <th>4</th>\n",
       "    </tr>\n",
       "  </thead>\n",
       "  <tbody>\n",
       "    <tr>\n",
       "      <th>0</th>\n",
       "      <td>-0.228134</td>\n",
       "      <td>3.328511</td>\n",
       "      <td>-3.560385</td>\n",
       "      <td>-3.328511</td>\n",
       "    </tr>\n",
       "    <tr>\n",
       "      <th>1</th>\n",
       "      <td>-12.977453</td>\n",
       "      <td>-19.608295</td>\n",
       "      <td>-24.956352</td>\n",
       "      <td>-24.335529</td>\n",
       "    </tr>\n",
       "    <tr>\n",
       "      <th>2</th>\n",
       "      <td>13.295344</td>\n",
       "      <td>9.076737</td>\n",
       "      <td>10.879369</td>\n",
       "      <td>1.731574</td>\n",
       "    </tr>\n",
       "    <tr>\n",
       "      <th>3</th>\n",
       "      <td>-9.895775</td>\n",
       "      <td>-19.952366</td>\n",
       "      <td>-23.628688</td>\n",
       "      <td>-31.624594</td>\n",
       "    </tr>\n",
       "    <tr>\n",
       "      <th>4</th>\n",
       "      <td>-9.959354</td>\n",
       "      <td>-21.665240</td>\n",
       "      <td>-26.411173</td>\n",
       "      <td>-32.570789</td>\n",
       "    </tr>\n",
       "    <tr>\n",
       "      <th>...</th>\n",
       "      <td>...</td>\n",
       "      <td>...</td>\n",
       "      <td>...</td>\n",
       "      <td>...</td>\n",
       "    </tr>\n",
       "    <tr>\n",
       "      <th>5397</th>\n",
       "      <td>-583.947979</td>\n",
       "      <td>-1123.125616</td>\n",
       "      <td>-545.769210</td>\n",
       "      <td>-700.930180</td>\n",
       "    </tr>\n",
       "    <tr>\n",
       "      <th>5398</th>\n",
       "      <td>-551.762400</td>\n",
       "      <td>-1096.979975</td>\n",
       "      <td>-496.765301</td>\n",
       "      <td>-656.279514</td>\n",
       "    </tr>\n",
       "    <tr>\n",
       "      <th>5399</th>\n",
       "      <td>-559.320738</td>\n",
       "      <td>-1109.733034</td>\n",
       "      <td>-510.344878</td>\n",
       "      <td>-673.696228</td>\n",
       "    </tr>\n",
       "    <tr>\n",
       "      <th>5400</th>\n",
       "      <td>-577.784624</td>\n",
       "      <td>-1141.709179</td>\n",
       "      <td>-541.741338</td>\n",
       "      <td>-714.438698</td>\n",
       "    </tr>\n",
       "    <tr>\n",
       "      <th>5401</th>\n",
       "      <td>-547.962662</td>\n",
       "      <td>-1113.506593</td>\n",
       "      <td>-507.334259</td>\n",
       "      <td>-673.602731</td>\n",
       "    </tr>\n",
       "  </tbody>\n",
       "</table>\n",
       "<p>5402 rows × 4 columns</p>\n",
       "</div>"
      ],
      "text/plain": [
       "               1            2           3           4\n",
       "0      -0.228134     3.328511   -3.560385   -3.328511\n",
       "1     -12.977453   -19.608295  -24.956352  -24.335529\n",
       "2      13.295344     9.076737   10.879369    1.731574\n",
       "3      -9.895775   -19.952366  -23.628688  -31.624594\n",
       "4      -9.959354   -21.665240  -26.411173  -32.570789\n",
       "...          ...          ...         ...         ...\n",
       "5397 -583.947979 -1123.125616 -545.769210 -700.930180\n",
       "5398 -551.762400 -1096.979975 -496.765301 -656.279514\n",
       "5399 -559.320738 -1109.733034 -510.344878 -673.696228\n",
       "5400 -577.784624 -1141.709179 -541.741338 -714.438698\n",
       "5401 -547.962662 -1113.506593 -507.334259 -673.602731\n",
       "\n",
       "[5402 rows x 4 columns]"
      ]
     },
     "execution_count": 106,
     "metadata": {},
     "output_type": "execute_result"
    }
   ],
   "source": [
    "csv_df"
   ]
  },
  {
   "cell_type": "code",
   "execution_count": 118,
   "metadata": {},
   "outputs": [
    {
     "data": {
      "text/plain": [
       "<AxesSubplot:>"
      ]
     },
     "execution_count": 118,
     "metadata": {},
     "output_type": "execute_result"
    },
    {
     "data": {
      "image/png": "[encoded data removed]",
      "text/plain": [
       "<Figure size 432x288 with 1 Axes>"
      ]
     },
     "metadata": {
      "needs_background": "light"
     },
     "output_type": "display_data"
    }
   ],
   "source": [
    "csv_df.plot()"
   ]
  }
 ],
 "metadata": {
  "kernelspec": {
   "display_name": "light-nesis",
   "language": "python",
   "name": "light-nesis"
  },
  "language_info": {
   "codemirror_mode": {
    "name": "ipython",
    "version": 3
   },
   "file_extension": ".py",
   "mimetype": "text/x-python",
   "name": "python",
   "nbconvert_exporter": "python",
   "pygments_lexer": "ipython3",
   "version": "3.8.13"
  },
  "vscode": {
   "interpreter": {
    "hash": "49c3262ce756833a519aa80cc558c58e1f7368b91e295d87420f4379c9a47f53"
   }
  }
 },
 "nbformat": 4,
 "nbformat_minor": 4
}
