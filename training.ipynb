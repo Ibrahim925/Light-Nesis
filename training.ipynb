{
 "cells": [
  {
   "cell_type": "markdown",
   "metadata": {},
   "source": [
    "<h1>\n",
    "    Light-Nesis Prototype\n",
    "</h1>\n",
    "\n",
    "<h2>Table of Contents</h2>\n",
    "<ol>\n",
    "    <li><a href=\"#data-collection\">Data collection</a></li>\n",
    "    <li><a href=\"#preprocessing\">Preprocessing/Feature extraction</a></li>\n",
    "    <li>Model training</li>\n",
    "    <li>Model evaluation</li>\n",
    "</ol>"
   ]
  },
  {
   "cell_type": "markdown",
   "metadata": {},
   "source": [
    "<h2 id=\"data-collection\">Data Collection</h2>"
   ]
  },
  {
   "cell_type": "code",
   "execution_count": 14,
   "metadata": {},
   "outputs": [],
   "source": [
    "import argparse\n",
    "import time\n",
    "from brainflow.board_shim import BoardShim, BrainFlowInputParams, BoardIds\n",
    "from brainflow.data_filter import DataFilter\n",
    "import os"
   ]
  },
  {
   "cell_type": "code",
   "execution_count": 15,
   "metadata": {},
   "outputs": [],
   "source": [
    "# Parameters for data collection\n",
    "\n",
    "sex = [\"male\", \"female\"][0]\n",
    "participant = \"01\"\n",
    "direction = [\"left\", \"none\", \"right\"][0]\n",
    "run = \"01\"\n",
    "ext = \".csv\"\n",
    "\n",
    "if not os.path.exists(os.path.join(\"data\", sex, participant, direction)):\n",
    "    os.makedirs(os.path.join(\"data\", sex, participant, direction))\n",
    "\n",
    "dir_path = os.path.join(\"data\", sex, participant, direction)\n",
    "file_path = os.path.join(dir_path, run + ext)"
   ]
  },
  {
   "cell_type": "code",
   "execution_count": null,
   "metadata": {},
   "outputs": [],
   "source": [
    "BoardShim.enable_dev_board_logger()\n",
    "\n",
    "# Arguments for board\n",
    "params = BrainFlowInputParams()\n",
    "params.serial_port = \"/dev/cu.usbmodem11\"\n",
    "\n",
    "# Make connection to board\n",
    "try:    \n",
    "    board = BoardShim(BoardIds.GANGLION_BOARD, params)\n",
    "    board.prepare_session()\n",
    "    board.start_stream()\n",
    "    time.sleep(27)\n",
    "    data = board.get_board_data()  # get all data and remove it from internal buffer\n",
    "    board.stop_stream()\n",
    "    board.release_session()\n",
    "    DataFilter.write_file(data, file_path, \"w\")\n",
    "except:\n",
    "    print(\"Unable to connect to Ganglion Board\")\n"
   ]
  },
  {
   "cell_type": "markdown",
   "metadata": {},
   "source": [
    "<h2 id=\"preprocessing\">Preprocessing/Feature Extraction</h2>"
   ]
  }
 ],
 "metadata": {
  "kernelspec": {
   "display_name": "Python 3.8.13 ('light-nesis')",
   "language": "python",
   "name": "python3"
  },
  "language_info": {
   "codemirror_mode": {
    "name": "ipython",
    "version": 3
   },
   "file_extension": ".py",
   "mimetype": "text/x-python",
   "name": "python",
   "nbconvert_exporter": "python",
   "pygments_lexer": "ipython3",
   "version": "3.8.13"
  },
  "orig_nbformat": 4,
  "vscode": {
   "interpreter": {
    "hash": "49c3262ce756833a519aa80cc558c58e1f7368b91e295d87420f4379c9a47f53"
   }
  }
 },
 "nbformat": 4,
 "nbformat_minor": 2
}
