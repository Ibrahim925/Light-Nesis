{
 "cells": [
  {
   "cell_type": "markdown",
   "metadata": {},
   "source": [
    "<h1>\n",
    "    Light-Nesis Prototype\n",
    "</h1>\n",
    "\n",
    "<h2>Table of Contents</h2>\n",
    "<ol>\n",
    "    <li><a href=\"#data-collection\">Data collection</a></li>\n",
    "    <li><a href=\"#preprocessing\">Preprocessing/Feature extraction</a></li>\n",
    "    <li>Model training</li>\n",
    "    <li>Model evaluation</li>\n",
    "</ol>"
   ]
  },
  {
   "cell_type": "markdown",
   "metadata": {},
   "source": [
    "<h2 id=\"data-collection\">Data Collection</h2>"
   ]
  },
  {
   "cell_type": "code",
   "execution_count": 7,
   "metadata": {},
   "outputs": [],
   "source": [
    "import argparse\n",
    "import time\n",
    "from brainflow.board_shim import BoardShim, BrainFlowInputParams, BoardIds\n",
    "from brainflow.data_filter import DataFilter\n",
    "import os"
   ]
  },
  {
   "cell_type": "code",
   "execution_count": 8,
   "metadata": {},
   "outputs": [],
   "source": [
    "# Parameters for data collection\n",
    "\n",
    "sex = [\"male\", \"female\"][0]\n",
    "participant = \"01\"\n",
    "direction = [\"left\", \"none\", \"right\"][0]\n",
    "run = \"01\"\n",
    "ext = \".csv\"\n",
    "\n",
    "if not os.path.exists(os.path.join(\"data\", sex, participant, direction)):\n",
    "    os.makedirs(os.path.join(\"data\", sex, participant, direction))\n",
    "\n",
    "dir_path = os.path.join(\"data\", sex, participant, direction)\n",
    "file_path = os.path.join(dir_path, run + ext)"
   ]
  },
  {
   "cell_type": "code",
   "execution_count": 9,
   "metadata": {},
   "outputs": [
    {
     "name": "stderr",
     "output_type": "stream",
     "text": [
      "usage: ipykernel_launcher.py [-h] [--serial-port SERIAL_PORT]\n",
      "                             [--board-id BOARD_ID]\n",
      "ipykernel_launcher.py: error: unrecognized arguments: -f /Users/ibrahim/Library/Jupyter/runtime/kernel-778e7418-b7ef-4729-98be-920bef8cd557.json\n"
     ]
    },
    {
     "ename": "SystemExit",
     "evalue": "2",
     "output_type": "error",
     "traceback": [
      "An exception has occurred, use %tb to see the full traceback.\n",
      "\u001b[0;31mSystemExit\u001b[0m\u001b[0;31m:\u001b[0m 2\n"
     ]
    }
   ],
   "source": [
    "def collect_data():\n",
    "    BoardShim.enable_dev_board_logger()\n",
    "\n",
    "    # Arguments for board\n",
    "    parser = argparse.ArgumentParser()\n",
    "    parser.add_argument('--serial-port', type=str, help='serial port', required=False, default='/dev/cu.usbmodem11')\n",
    "    parser.add_argument('--board-id', type=int, help='board id, check docs to get a list of supported boards', required=False, default=BoardIds.GANGLION_BOARD)\n",
    "    args = parser.parse_args()\n",
    "    params = BrainFlowInputParams()\n",
    "    params.serial_port = args.serial_port\n",
    "\n",
    "    \n",
    "    board = BoardShim(args.board_id, params)\n",
    "    board.prepare_session()\n",
    "    board.start_stream()\n",
    "    time.sleep(27)\n",
    "    data = board.get_board_data()  # get all data and remove it from internal buffer\n",
    "    board.stop_stream()\n",
    "    board.release_session()\n",
    "\n",
    "    DataFilter.write_file(data, file_path, \"w\")\n",
    "\n",
    "collect_data()"
   ]
  },
  {
   "cell_type": "markdown",
   "metadata": {},
   "source": [
    "<h2 id=\"preprocessing\">Preprocessing/Feature Extraction</h2>"
   ]
  }
 ],
 "metadata": {
  "kernelspec": {
   "display_name": "Python 3.8.9 64-bit",
   "language": "python",
   "name": "python3"
  },
  "language_info": {
   "codemirror_mode": {
    "name": "ipython",
    "version": 3
   },
   "file_extension": ".py",
   "mimetype": "text/x-python",
   "name": "python",
   "nbconvert_exporter": "python",
   "pygments_lexer": "ipython3",
   "version": "3.8.9"
  },
  "orig_nbformat": 4,
  "vscode": {
   "interpreter": {
    "hash": "31f2aee4e71d21fbe5cf8b01ff0e069b9275f58929596ceb00d14d90e3e16cd6"
   }
  }
 },
 "nbformat": 4,
 "nbformat_minor": 2
}
