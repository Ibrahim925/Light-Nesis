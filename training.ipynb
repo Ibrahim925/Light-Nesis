{
 "cells": [
  {
   "cell_type": "markdown",
   "metadata": {},
   "source": [
    "<h1>\n",
    "    Light-Nesis Prototype\n",
    "</h1>\n",
    "\n",
    "<h2>Table of Contents</h2>\n",
    "<ol>\n",
    "    <li><a href=\"#data-collection\">Data collection</a></li>\n",
    "    <li><a href=\"#preprocessing\">Preprocessing/Feature extraction</a></li>\n",
    "    <li>Model training</li>\n",
    "    <li>Model evaluation</li>\n",
    "</ol>"
   ]
  },
  {
   "cell_type": "markdown",
   "metadata": {},
   "source": [
    "<h2 id=\"data-collection\">Data Collection</h2>"
   ]
  },
  {
   "cell_type": "code",
   "execution_count": 2,
   "metadata": {},
   "outputs": [
    {
     "ename": "ModuleNotFoundError",
     "evalue": "No module named 'brainflow'",
     "output_type": "error",
     "traceback": [
      "\u001b[0;31m---------------------------------------------------------------------------\u001b[0m",
      "\u001b[0;31mModuleNotFoundError\u001b[0m                       Traceback (most recent call last)",
      "\u001b[1;32m/Users/ibrahim/Code/Walnut/Light-Nesis Prototype/training.ipynb Cell 3\u001b[0m in \u001b[0;36m<cell line: 3>\u001b[0;34m()\u001b[0m\n\u001b[1;32m      <a href='vscode-notebook-cell:/Users/ibrahim/Code/Walnut/Light-Nesis%20Prototype/training.ipynb#ch0000001?line=0'>1</a>\u001b[0m \u001b[39mimport\u001b[39;00m \u001b[39margparse\u001b[39;00m\n\u001b[1;32m      <a href='vscode-notebook-cell:/Users/ibrahim/Code/Walnut/Light-Nesis%20Prototype/training.ipynb#ch0000001?line=1'>2</a>\u001b[0m \u001b[39mimport\u001b[39;00m \u001b[39mtime\u001b[39;00m\n\u001b[0;32m----> <a href='vscode-notebook-cell:/Users/ibrahim/Code/Walnut/Light-Nesis%20Prototype/training.ipynb#ch0000001?line=2'>3</a>\u001b[0m \u001b[39mfrom\u001b[39;00m \u001b[39mbrainflow\u001b[39;00m\u001b[39m.\u001b[39;00m\u001b[39mboard_shim\u001b[39;00m \u001b[39mimport\u001b[39;00m BoardShim, BrainFlowInputParams, BoardIds\n\u001b[1;32m      <a href='vscode-notebook-cell:/Users/ibrahim/Code/Walnut/Light-Nesis%20Prototype/training.ipynb#ch0000001?line=3'>4</a>\u001b[0m \u001b[39mfrom\u001b[39;00m \u001b[39mbrainflow\u001b[39;00m\u001b[39m.\u001b[39;00m\u001b[39mdata_filter\u001b[39;00m \u001b[39mimport\u001b[39;00m DataFilter\n\u001b[1;32m      <a href='vscode-notebook-cell:/Users/ibrahim/Code/Walnut/Light-Nesis%20Prototype/training.ipynb#ch0000001?line=4'>5</a>\u001b[0m \u001b[39mimport\u001b[39;00m \u001b[39mos\u001b[39;00m\n",
      "\u001b[0;31mModuleNotFoundError\u001b[0m: No module named 'brainflow'"
     ]
    }
   ],
   "source": [
    "import argparse\n",
    "import time\n",
    "from brainflow.board_shim import BoardShim, BrainFlowInputParams, BoardIds\n",
    "from brainflow.data_filter import DataFilter\n",
    "import os"
   ]
  },
  {
   "cell_type": "code",
   "execution_count": null,
   "metadata": {},
   "outputs": [],
   "source": [
    "# Parameters for data collection\n",
    "\n",
    "sex = [\"male\", \"female\"][0]\n",
    "participant = \"01\"\n",
    "direction = [\"left\", \"none\", \"right\"][0]\n",
    "run = \"01\"\n",
    "ext = \".csv\"\n",
    "\n",
    "if not os.path.exists(os.path.join(\"data\", sex, participant, direction)):\n",
    "    os.makedirs(os.path.join(\"data\", sex, participant, direction))\n",
    "\n",
    "dir_path = os.path.join(\"data\", sex, participant, direction)\n",
    "file_path = os.path.join(dir_path, run + ext)"
   ]
  },
  {
   "cell_type": "code",
   "execution_count": null,
   "metadata": {},
   "outputs": [
    {
     "name": "stderr",
     "output_type": "stream",
     "text": [
      "usage: ipykernel_launcher.py [-h] [--serial-port SERIAL_PORT]\n",
      "                             [--board-id BOARD_ID]\n",
      "ipykernel_launcher.py: error: unrecognized arguments: -f /Users/ibrahim/Library/Jupyter/runtime/kernel-778e7418-b7ef-4729-98be-920bef8cd557.json\n"
     ]
    },
    {
     "ename": "SystemExit",
     "evalue": "2",
     "output_type": "error",
     "traceback": [
      "An exception has occurred, use %tb to see the full traceback.\n",
      "\u001b[0;31mSystemExit\u001b[0m\u001b[0;31m:\u001b[0m 2\n"
     ]
    }
   ],
   "source": [
    "BoardShim.enable_dev_board_logger()\n",
    "\n",
    "# Arguments for board\n",
    "parser = argparse.ArgumentParser()\n",
    "parser.add_argument('--serial-port', type=str, help='serial port', required=False, default='/dev/cu.usbmodem11')\n",
    "parser.add_argument('--board-id', type=int, help='board id, check docs to get a list of supported boards', required=False, default=BoardIds.GANGLION_BOARD)\n",
    "args = parser.parse_args()\n",
    "params = BrainFlowInputParams()\n",
    "params.serial_port = args.serial_port\n",
    "\n",
    "    \n",
    "board = BoardShim(args.board_id, params)\n",
    "board.prepare_session()\n",
    "board.start_stream()\n",
    "time.sleep(27)\n",
    "data = board.get_board_data()  # get all data and remove it from internal buffer\n",
    "board.stop_stream()\n",
    "board.release_session()\n",
    "\n",
    "DataFilter.write_file(data, file_path, \"w\")\n",
    "\n"
   ]
  },
  {
   "cell_type": "markdown",
   "metadata": {},
   "source": [
    "<h2 id=\"preprocessing\">Preprocessing/Feature Extraction</h2>"
   ]
  }
 ],
 "metadata": {
  "kernelspec": {
   "display_name": "Python 3.8.9 ('env': venv)",
   "language": "python",
   "name": "python3"
  },
  "language_info": {
   "codemirror_mode": {
    "name": "ipython",
    "version": 3
   },
   "file_extension": ".py",
   "mimetype": "text/x-python",
   "name": "python",
   "nbconvert_exporter": "python",
   "pygments_lexer": "ipython3",
   "version": "3.8.9"
  },
  "orig_nbformat": 4,
  "vscode": {
   "interpreter": {
    "hash": "7e399dcfc48c78cbbddff32d6111d8db534ba68a440c1ca3ff5d3cceae7a8ef1"
   }
  }
 },
 "nbformat": 4,
 "nbformat_minor": 2
}
